{
 "cells": [
  {
   "cell_type": "code",
   "execution_count": 1,
   "id": "0920cb21",
   "metadata": {},
   "outputs": [],
   "source": [
    "def my_amazing_func():\n",
    "    print('Hello World! From my function!')"
   ]
  },
  {
   "cell_type": "code",
   "execution_count": 2,
   "id": "b665fe22",
   "metadata": {},
   "outputs": [
    {
     "name": "stdout",
     "output_type": "stream",
     "text": [
      "Hello World! From my function!\n"
     ]
    }
   ],
   "source": [
    "my_amazing_func()"
   ]
  },
  {
   "cell_type": "code",
   "execution_count": 3,
   "id": "fa893668",
   "metadata": {},
   "outputs": [
    {
     "name": "stdout",
     "output_type": "stream",
     "text": [
      "Hello World! From my function!\n"
     ]
    }
   ],
   "source": [
    "variable_name = my_amazing_func()"
   ]
  },
  {
   "cell_type": "code",
   "execution_count": 4,
   "id": "60ed47a7",
   "metadata": {},
   "outputs": [
    {
     "name": "stdout",
     "output_type": "stream",
     "text": [
      "None\n"
     ]
    }
   ],
   "source": [
    "print(variable_name)"
   ]
  },
  {
   "cell_type": "code",
   "execution_count": 5,
   "id": "6bb4300c",
   "metadata": {},
   "outputs": [
    {
     "data": {
      "text/plain": [
       "NoneType"
      ]
     },
     "execution_count": 5,
     "metadata": {},
     "output_type": "execute_result"
    }
   ],
   "source": [
    "type(variable_name)"
   ]
  },
  {
   "cell_type": "code",
   "execution_count": 6,
   "id": "3f15557b",
   "metadata": {},
   "outputs": [],
   "source": [
    "def my_amazing_func( thing_to_print ):\n",
    "    print( thing_to_print )"
   ]
  },
  {
   "cell_type": "code",
   "execution_count": 8,
   "id": "13553516",
   "metadata": {},
   "outputs": [
    {
     "ename": "NameError",
     "evalue": "name 'thing_to_print' is not defined",
     "output_type": "error",
     "traceback": [
      "\u001b[1;31m---------------------------------------------------------------------------\u001b[0m",
      "\u001b[1;31mNameError\u001b[0m                                 Traceback (most recent call last)",
      "Cell \u001b[1;32mIn[8], line 1\u001b[0m\n\u001b[1;32m----> 1\u001b[0m \u001b[38;5;28mprint\u001b[39m ( thing_to_print )\n",
      "\u001b[1;31mNameError\u001b[0m: name 'thing_to_print' is not defined"
     ]
    }
   ],
   "source": [
    "print ( thing_to_print )"
   ]
  },
  {
   "cell_type": "code",
   "execution_count": 9,
   "id": "4b9f9ff7",
   "metadata": {},
   "outputs": [
    {
     "name": "stdout",
     "output_type": "stream",
     "text": [
      "This is a test\n"
     ]
    }
   ],
   "source": [
    "my_amazing_func(\"This is a test\")"
   ]
  },
  {
   "cell_type": "code",
   "execution_count": 12,
   "id": "a28389ea",
   "metadata": {},
   "outputs": [
    {
     "ename": "NameError",
     "evalue": "name 'thing_to_print' is not defined",
     "output_type": "error",
     "traceback": [
      "\u001b[1;31m---------------------------------------------------------------------------\u001b[0m",
      "\u001b[1;31mNameError\u001b[0m                                 Traceback (most recent call last)",
      "Cell \u001b[1;32mIn[12], line 1\u001b[0m\n\u001b[1;32m----> 1\u001b[0m my_amazing_func( thing_to_print )\n",
      "\u001b[1;31mNameError\u001b[0m: name 'thing_to_print' is not defined"
     ]
    }
   ],
   "source": [
    "my_amazing_func( thing_to_print )"
   ]
  },
  {
   "cell_type": "code",
   "execution_count": 15,
   "id": "c3e0394f",
   "metadata": {},
   "outputs": [],
   "source": [
    "def my_amazing_func( thing_to_print = \"Hi Hi\") :\n",
    "    print (thing_to_print)"
   ]
  },
  {
   "cell_type": "code",
   "execution_count": 17,
   "id": "da96ec63",
   "metadata": {},
   "outputs": [
    {
     "name": "stdout",
     "output_type": "stream",
     "text": [
      "Hi Hi\n"
     ]
    }
   ],
   "source": [
    "my_amazing_func()"
   ]
  },
  {
   "cell_type": "code",
   "execution_count": 34,
   "id": "8d0ee1a5",
   "metadata": {},
   "outputs": [],
   "source": [
    "def my_amazing_func( task = \" Learning python functions\") :\n",
    "    print (task )"
   ]
  },
  {
   "cell_type": "code",
   "execution_count": 35,
   "id": "24bf1dd6",
   "metadata": {},
   "outputs": [
    {
     "name": "stdout",
     "output_type": "stream",
     "text": [
      " Learning python functions\n"
     ]
    }
   ],
   "source": [
    "my_amazing_func()"
   ]
  },
  {
   "cell_type": "code",
   "execution_count": 38,
   "id": "9bfafe9b",
   "metadata": {},
   "outputs": [],
   "source": [
    "import random"
   ]
  },
  {
   "cell_type": "code",
   "execution_count": 40,
   "id": "4f36ba8c",
   "metadata": {},
   "outputs": [
    {
     "name": "stdout",
     "output_type": "stream",
     "text": [
      "4\n"
     ]
    }
   ],
   "source": [
    "x =random.randint(0,10)\n",
    "print (x)"
   ]
  },
  {
   "cell_type": "code",
   "execution_count": 41,
   "id": "69987fa2",
   "metadata": {},
   "outputs": [
    {
     "name": "stdout",
     "output_type": "stream",
     "text": [
      "0\n"
     ]
    }
   ],
   "source": [
    "x =random.randint(0,10)\n",
    "print (x)"
   ]
  },
  {
   "cell_type": "code",
   "execution_count": 43,
   "id": "e27e0ee3",
   "metadata": {},
   "outputs": [
    {
     "name": "stdout",
     "output_type": "stream",
     "text": [
      "16\n",
      "48\n",
      "3\n",
      "5\n",
      "20\n",
      "24\n",
      "37\n",
      "14\n",
      "18\n",
      "37\n",
      "29\n",
      "37\n",
      "40\n",
      "25\n",
      "50\n",
      "27\n",
      "22\n",
      "37\n",
      "11\n",
      "25\n"
     ]
    }
   ],
   "source": [
    "for i in range(20):\n",
    "    random_number= random.randint(1,50)\n",
    "    print (random_number)"
   ]
  },
  {
   "cell_type": "code",
   "execution_count": 44,
   "id": "6b6e7e04",
   "metadata": {},
   "outputs": [],
   "source": [
    "a = \"Outer string\"\n",
    "b = 42"
   ]
  },
  {
   "cell_type": "code",
   "execution_count": 45,
   "id": "ff0d916c",
   "metadata": {},
   "outputs": [],
   "source": [
    "def some_func():\n",
    "    print(a, b)"
   ]
  },
  {
   "cell_type": "code",
   "execution_count": 46,
   "id": "89e2a7b9",
   "metadata": {},
   "outputs": [
    {
     "name": "stdout",
     "output_type": "stream",
     "text": [
      "Outer string 42\n"
     ]
    }
   ],
   "source": [
    "some_func()"
   ]
  },
  {
   "cell_type": "code",
   "execution_count": 47,
   "id": "308d6adb",
   "metadata": {},
   "outputs": [],
   "source": [
    "def some_func2(a, b):\n",
    "    print(a, b)"
   ]
  },
  {
   "cell_type": "code",
   "execution_count": 49,
   "id": "e69a062a",
   "metadata": {},
   "outputs": [
    {
     "ename": "TypeError",
     "evalue": "some_func2() missing 2 required positional arguments: 'a' and 'b'",
     "output_type": "error",
     "traceback": [
      "\u001b[1;31m---------------------------------------------------------------------------\u001b[0m",
      "\u001b[1;31mTypeError\u001b[0m                                 Traceback (most recent call last)",
      "Cell \u001b[1;32mIn[49], line 1\u001b[0m\n\u001b[1;32m----> 1\u001b[0m some_func2()\n",
      "\u001b[1;31mTypeError\u001b[0m: some_func2() missing 2 required positional arguments: 'a' and 'b'"
     ]
    }
   ],
   "source": [
    "some_func2()"
   ]
  },
  {
   "cell_type": "code",
   "execution_count": 50,
   "id": "c343fc3d",
   "metadata": {},
   "outputs": [],
   "source": [
    "def some_func2(c, d):\n",
    "    print (c, d)"
   ]
  },
  {
   "cell_type": "code",
   "execution_count": 51,
   "id": "8a761c24",
   "metadata": {},
   "outputs": [
    {
     "ename": "TypeError",
     "evalue": "some_func2() missing 2 required positional arguments: 'c' and 'd'",
     "output_type": "error",
     "traceback": [
      "\u001b[1;31m---------------------------------------------------------------------------\u001b[0m",
      "\u001b[1;31mTypeError\u001b[0m                                 Traceback (most recent call last)",
      "Cell \u001b[1;32mIn[51], line 1\u001b[0m\n\u001b[1;32m----> 1\u001b[0m some_func2()\n",
      "\u001b[1;31mTypeError\u001b[0m: some_func2() missing 2 required positional arguments: 'c' and 'd'"
     ]
    }
   ],
   "source": [
    "some_func2()"
   ]
  },
  {
   "cell_type": "code",
   "execution_count": 53,
   "id": "3e807f4e",
   "metadata": {},
   "outputs": [
    {
     "name": "stdout",
     "output_type": "stream",
     "text": [
      "Outer string 42\n"
     ]
    }
   ],
   "source": [
    "some_func2(a, b)"
   ]
  },
  {
   "cell_type": "code",
   "execution_count": 54,
   "id": "35332327",
   "metadata": {},
   "outputs": [],
   "source": [
    "def some_func2(c, d):\n",
    "    print (c, d)"
   ]
  },
  {
   "cell_type": "code",
   "execution_count": 56,
   "id": "f3911311",
   "metadata": {},
   "outputs": [
    {
     "ename": "TypeError",
     "evalue": "some_func2() missing 2 required positional arguments: 'c' and 'd'",
     "output_type": "error",
     "traceback": [
      "\u001b[1;31m---------------------------------------------------------------------------\u001b[0m",
      "\u001b[1;31mTypeError\u001b[0m                                 Traceback (most recent call last)",
      "Cell \u001b[1;32mIn[56], line 1\u001b[0m\n\u001b[1;32m----> 1\u001b[0m some_func2()\n",
      "\u001b[1;31mTypeError\u001b[0m: some_func2() missing 2 required positional arguments: 'c' and 'd'"
     ]
    }
   ],
   "source": [
    "some_func2()"
   ]
  },
  {
   "cell_type": "code",
   "execution_count": 57,
   "id": "7c044c69",
   "metadata": {},
   "outputs": [
    {
     "name": "stdout",
     "output_type": "stream",
     "text": [
      "Outer string 42\n"
     ]
    },
    {
     "ename": "NameError",
     "evalue": "name 'c' is not defined",
     "output_type": "error",
     "traceback": [
      "\u001b[1;31m---------------------------------------------------------------------------\u001b[0m",
      "\u001b[1;31mNameError\u001b[0m                                 Traceback (most recent call last)",
      "Cell \u001b[1;32mIn[57], line 2\u001b[0m\n\u001b[0;32m      1\u001b[0m some_func2(a, b)\n\u001b[1;32m----> 2\u001b[0m \u001b[38;5;28mprint\u001b[39m(c)\n",
      "\u001b[1;31mNameError\u001b[0m: name 'c' is not defined"
     ]
    }
   ],
   "source": [
    "some_func2(a, b)\n",
    "print(c)"
   ]
  },
  {
   "cell_type": "code",
   "execution_count": 63,
   "id": "cc126c9a",
   "metadata": {},
   "outputs": [],
   "source": [
    "def always_4():\n",
    "    return 4"
   ]
  },
  {
   "cell_type": "code",
   "execution_count": 64,
   "id": "9612927c",
   "metadata": {},
   "outputs": [],
   "source": [
    "four = 4"
   ]
  },
  {
   "cell_type": "code",
   "execution_count": 65,
   "id": "86d07d56",
   "metadata": {},
   "outputs": [
    {
     "name": "stdout",
     "output_type": "stream",
     "text": [
      "4\n"
     ]
    }
   ],
   "source": [
    "print (four)"
   ]
  },
  {
   "cell_type": "code",
   "execution_count": 70,
   "id": "e28aa587",
   "metadata": {},
   "outputs": [],
   "source": [
    "def addition(a, b):\n",
    "    print(a+b)"
   ]
  },
  {
   "cell_type": "code",
   "execution_count": 71,
   "id": "fb7bca46",
   "metadata": {},
   "outputs": [
    {
     "name": "stdout",
     "output_type": "stream",
     "text": [
      "9\n"
     ]
    }
   ],
   "source": [
    "addition(4, 5)"
   ]
  },
  {
   "cell_type": "code",
   "execution_count": 2,
   "id": "7f253d31",
   "metadata": {},
   "outputs": [
    {
     "data": {
      "text/plain": [
       "3"
      ]
     },
     "execution_count": 2,
     "metadata": {},
     "output_type": "execute_result"
    }
   ],
   "source": [
    "A = [ 5, 2, 9, -1, 3, 12]\n",
    "A.index(-1) \n",
    "            \n",
    "                \n",
    "        \n"
   ]
  },
  {
   "cell_type": "code",
   "execution_count": 31,
   "id": "0ce3250a",
   "metadata": {},
   "outputs": [],
   "source": [
    "A = [ 5, 2, 9, -1, 3, 12]\n",
    "\n",
    "def find_negative_one_index():\n",
    "    try:\n",
    "        index_of_issue= A.index(-1)\n",
    "        print(\"The index of -1 is\",index_of_issue)\n",
    "    except ValueError:  \n",
    "            print(\"There is no -1 here\")"
   ]
  },
  {
   "cell_type": "code",
   "execution_count": 32,
   "id": "d0bf8be9",
   "metadata": {},
   "outputs": [
    {
     "name": "stdout",
     "output_type": "stream",
     "text": [
      "The index of -1 is 3\n"
     ]
    }
   ],
   "source": [
    "find_negative_one_index()"
   ]
  },
  {
   "cell_type": "code",
   "execution_count": 38,
   "id": "7b8991f9",
   "metadata": {},
   "outputs": [
    {
     "name": "stdout",
     "output_type": "stream",
     "text": [
      "{'Ada': 98.0, 'Bill': 45.0, 'Charlie': 63.2, 'Ray': 12.0}\n"
     ]
    }
   ],
   "source": [
    "def get_combined_namegrades(names,grades):\n",
    "    student_dict={}\n",
    "    for i in range(len(names)):\n",
    "        student_dict[names[i]]=grades[i]\n",
    "        return student_dict\n",
    "    \n",
    "student_records = {\"Ada\": 98.0,\n",
    "                  \"Bill\": 45.0,\n",
    "                  \"Charlie\": 63.2} \n",
    "\n",
    "student_names = [\"Ray\", \"Romeo\", \"Jack\", \"Jim\" ,\"Tonia\"]\n",
    "student_grades = [12.0, 23.3, 82.3, 98.1, 68.3]\n",
    "\n",
    "combined_grades = get_combined_namegrades(student_names, student_grades)\n",
    "\n",
    "student_records.update(combined_grades)\n",
    "\n",
    "print(student_records)"
   ]
  },
  {
   "cell_type": "code",
   "execution_count": 41,
   "id": "3c8029f8",
   "metadata": {},
   "outputs": [],
   "source": [
    "class Student(object):\n",
    "    pass #\n",
    "\n",
    "alex = Student()\n",
    "\n"
   ]
  },
  {
   "cell_type": "code",
   "execution_count": 42,
   "id": "486bff5a",
   "metadata": {},
   "outputs": [
    {
     "name": "stdout",
     "output_type": "stream",
     "text": [
      "<class '__main__.Student'>\n"
     ]
    }
   ],
   "source": [
    "print(type(alex))\n"
   ]
  },
  {
   "cell_type": "code",
   "execution_count": 48,
   "id": "bc100ab9",
   "metadata": {},
   "outputs": [],
   "source": [
    "class Student(object):\n",
    "    def __init__(self):\n",
    "        print(\"This get called when I make a new student\")"
   ]
  },
  {
   "cell_type": "code",
   "execution_count": 49,
   "id": "bab130b2",
   "metadata": {},
   "outputs": [
    {
     "name": "stdout",
     "output_type": "stream",
     "text": [
      "This get called when I make a new student\n"
     ]
    }
   ],
   "source": [
    "alex=Student()"
   ]
  },
  {
   "cell_type": "code",
   "execution_count": 65,
   "id": "66446607",
   "metadata": {},
   "outputs": [],
   "source": [
    "class Student(object):\n",
    "    def __init__(self,name,grade):\n",
    "        self.name = name\n",
    "        self.grade = grade\n",
    "        print(\"This get called when I make a new student\")"
   ]
  },
  {
   "cell_type": "code",
   "execution_count": 66,
   "id": "f378078e",
   "metadata": {},
   "outputs": [
    {
     "name": "stdout",
     "output_type": "stream",
     "text": [
      "This get called when I make a new student\n"
     ]
    }
   ],
   "source": [
    "alex=Student(\"alex\",6)"
   ]
  },
  {
   "cell_type": "code",
   "execution_count": 71,
   "id": "2915d18a",
   "metadata": {},
   "outputs": [
    {
     "name": "stdout",
     "output_type": "stream",
     "text": [
      "This get called when I make a new student\n",
      "This get called when I make a new student\n",
      "This get called when I make a new student\n",
      "[<__main__.Student object at 0x000001914B0D6850>, <__main__.Student object at 0x000001914B00F8D0>, <__main__.Student object at 0x000001914B00F050>]\n"
     ]
    }
   ],
   "source": [
    "some_student=[ Student(\"bob\",90), Student(\"Alex\",67), Student(\"Hera\",91) ]\n",
    "print(some_student) "
   ]
  },
  {
   "cell_type": "code",
   "execution_count": 69,
   "id": "8cc404a6",
   "metadata": {},
   "outputs": [
    {
     "name": "stdout",
     "output_type": "stream",
     "text": [
      "<__main__.Student object at 0x000001914B00E390>\n"
     ]
    }
   ],
   "source": [
    "print(some_student[1])"
   ]
  },
  {
   "cell_type": "code",
   "execution_count": 72,
   "id": "25e04bb8",
   "metadata": {},
   "outputs": [],
   "source": [
    "class Student(object):\n",
    "    def __init__(self,name,grade):\n",
    "        self.name = name\n",
    "        self.grade = grade\n",
    "    def get_classification(self):\n",
    "        if self.grade >= 90:\n",
    "            return \"A\"\n",
    "        if self.grade >= 80:\n",
    "            return \"B\"\n",
    "        if self.grade >= 70:\n",
    "            return \"C\"\n",
    "        if self.grade >= 60:\n",
    "            return \"D\"\n",
    "        else:\n",
    "            return \"F\""
   ]
  },
  {
   "cell_type": "code",
   "execution_count": null,
   "id": "48aa38a7",
   "metadata": {},
   "outputs": [],
   "source": []
  },
  {
   "cell_type": "code",
   "execution_count": 83,
   "id": "821245b8",
   "metadata": {},
   "outputs": [
    {
     "name": "stdout",
     "output_type": "stream",
     "text": [
      "B\n"
     ]
    }
   ],
   "source": [
    "print( alex.get_classification())"
   ]
  },
  {
   "cell_type": "code",
   "execution_count": null,
   "id": "e14a6771",
   "metadata": {},
   "outputs": [],
   "source": [
    "TRUE"
   ]
  }
 ],
 "metadata": {
  "kernelspec": {
   "display_name": "Python 3 (ipykernel)",
   "language": "python",
   "name": "python3"
  },
  "language_info": {
   "codemirror_mode": {
    "name": "ipython",
    "version": 3
   },
   "file_extension": ".py",
   "mimetype": "text/x-python",
   "name": "python",
   "nbconvert_exporter": "python",
   "pygments_lexer": "ipython3",
   "version": "3.11.5"
  }
 },
 "nbformat": 4,
 "nbformat_minor": 5
}
